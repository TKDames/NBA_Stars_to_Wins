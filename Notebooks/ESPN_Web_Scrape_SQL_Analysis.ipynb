{
 "cells": [
  {
   "cell_type": "markdown",
   "id": "7692fedd",
   "metadata": {},
   "source": [
    "# How does the number of star players on a team correlate with win percentage?"
   ]
  },
  {
   "cell_type": "code",
   "execution_count": null,
   "id": "48329faa",
   "metadata": {
    "vscode": {
     "languageId": "plaintext"
    }
   },
   "outputs": [],
   "source": [
    "sql_espn_diagnostic = '''\n",
    "WITH team_name_map AS (\n",
    "  SELECT * FROM (VALUES\n",
    "    ('ATL', 'Atlanta Hawks'),\n",
    "    ('BOS', 'Boston Celtics'),\n",
    "    ('BRK', 'Brooklyn Nets'),\n",
    "    ('CHA', 'Charlotte Hornets'),\n",
    "    ('CHI', 'Chicago Bulls'),\n",
    "    ('CLE', 'Cleveland Cavaliers'),\n",
    "    ('DAL', 'Dallas Mavericks'),\n",
    "    ('DEN', 'Denver Nuggets'),\n",
    "    ('DET', 'Detroit Pistons'),\n",
    "    ('GSW', 'Golden State Warriors'),\n",
    "    ('HOU', 'Houston Rockets'),\n",
    "    ('IND', 'Indiana Pacers'),\n",
    "    ('LAC', 'Los Angeles Clippers'),\n",
    "    ('LAL', 'Los Angeles Lakers'),\n",
    "    ('MEM', 'Memphis Grizzlies'),\n",
    "    ('MIA', 'Miami Heat'),\n",
    "    ('MIL', 'Milwaukee Bucks'),\n",
    "    ('MIN', 'Minnesota Timberwolves'),\n",
    "    ('NOP', 'New Orleans Pelicans'),\n",
    "    ('NYK', 'New York Knicks'),\n",
    "    ('OKC', 'Oklahoma City Thunder'),\n",
    "    ('ORL', 'Orlando Magic'),\n",
    "    ('PHI', 'Philadelphia 76ers'),\n",
    "    ('PHO', 'Phoenix Suns'),\n",
    "    ('POR', 'Portland Trail Blazers'),\n",
    "    ('SAC', 'Sacramento Kings'),\n",
    "    ('SAS', 'San Antonio Spurs'),\n",
    "    ('TOR', 'Toronto Raptors'),\n",
    "    ('UTA', 'Utah Jazz'),\n",
    "    ('WAS', 'Washington Wizards')\n",
    "  ) AS t(abbrev, full_name)\n",
    "),\n",
    "star_players AS (\n",
    "  SELECT\n",
    "    ps.player,\n",
    "    ps.team,\n",
    "    ps.season\n",
    "  FROM public.nba_api_player_stats ps\n",
    "  WHERE ps.per >= 20\n",
    "    AND ps.win_shares >= 5\n",
    "    AND ps.box_plus_minus >= 2\n",
    "),\n",
    "star_counts AS (\n",
    "  SELECT\n",
    "    team,\n",
    "    season,\n",
    "    COUNT(*) AS num_star_players\n",
    "  FROM star_players\n",
    "  GROUP BY team, season\n",
    "),\n",
    "team_records AS (\n",
    "  SELECT\n",
    "    m.abbrev AS team,\n",
    "    ws.\"Season\" AS season,\n",
    "    ws.\"Wins\" AS wins,\n",
    "    ws.\"Losses\" AS losses,\n",
    "    CAST(ws.\"Wins\" AS FLOAT) / (ws.\"Wins\" + ws.\"Losses\") AS win_pct\n",
    "  FROM public.web_scraped_standings ws\n",
    "  JOIN team_name_map m\n",
    "    ON ws.\"Team\" = m.full_name\n",
    "),\n",
    "joined AS (\n",
    "  SELECT\n",
    "    tr.team,\n",
    "    tr.season,\n",
    "    COALESCE(sc.num_star_players, 0) AS num_star_players,\n",
    "    tr.win_pct\n",
    "  FROM team_records tr\n",
    "  LEFT JOIN star_counts sc\n",
    "    ON tr.team = sc.team AND tr.season = sc.season\n",
    ")\n",
    "SELECT\n",
    "  num_star_players,\n",
    "  ROUND(AVG(win_pct)::numeric, 3) AS avg_win_percentage,\n",
    "  COUNT(*) AS num_teams\n",
    "FROM joined\n",
    "GROUP BY num_star_players\n",
    "ORDER BY num_star_players;\n",
    "'''\n",
    "\n",
    "df_espn_diagnostic = pd.read_sql(sql_espn_diagnostic, con=engine)\n",
    "pd.set_option('display.max_rows', None)\n",
    "df_espn_diagnostic"
   ]
  },
  {
   "cell_type": "markdown",
   "id": "2bb3eb11",
   "metadata": {},
   "source": [
    "# How many teams improved or declined in wins from 2022 to 2025?"
   ]
  },
  {
   "cell_type": "code",
   "execution_count": null,
   "id": "2c473296",
   "metadata": {
    "vscode": {
     "languageId": "plaintext"
    }
   },
   "outputs": [],
   "source": [
    "sql_espn_descriptive = '''\n",
    "WITH team_wins AS (\n",
    "  SELECT \n",
    "    \"Team\" AS team,\n",
    "    \"Season\" AS season,\n",
    "    \"Wins\" AS wins\n",
    "  FROM public.web_scraped_standings\n",
    "  WHERE \"Season\" IN (2022, 2025)\n",
    "),\n",
    "pivoted AS (\n",
    "  SELECT\n",
    "    team,\n",
    "    MAX(CASE WHEN season = 2022 THEN wins END) AS wins_2022,\n",
    "    MAX(CASE WHEN season = 2025 THEN wins END) AS wins_2025\n",
    "  FROM team_wins\n",
    "  GROUP BY team\n",
    ")\n",
    "SELECT\n",
    "  team,\n",
    "  wins_2022,\n",
    "  wins_2025,\n",
    "  (wins_2025 - wins_2022) AS win_change\n",
    "FROM pivoted\n",
    "ORDER BY win_change DESC;\n",
    "'''\n",
    "\n",
    "df_espn = pd.read_sql(sql_espn_descriptive, con=engine)\n",
    "pd.set_option('display.max_rows', None)\n",
    "df_espn\n"
   ]
  }
 ],
 "metadata": {
  "language_info": {
   "name": "python"
  }
 },
 "nbformat": 4,
 "nbformat_minor": 5
}
