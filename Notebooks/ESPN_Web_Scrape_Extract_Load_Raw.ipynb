{
 "cells": [
  {
   "cell_type": "code",
   "execution_count": null,
   "metadata": {
    "colab": {
     "base_uri": "https://localhost:8080/"
    },
    "executionInfo": {
     "elapsed": 6736,
     "status": "ok",
     "timestamp": 1746142893340,
     "user": {
      "displayName": "Tim Dames",
      "userId": "14353836328459833075"
     },
     "user_tz": 420
    },
    "id": "b9Xk-vY_9sgF",
    "outputId": "47359d94-d824-4d71-f73c-86ac3688d3d7"
   },
   "outputs": [
    {
     "name": "stdout",
     "output_type": "stream",
     "text": [
      "Scraping season 2022...\n",
      "Scraping season 2023...\n",
      "Scraping season 2024...\n",
      "Scraping season 2025...\n",
      "     Season                    Team  Wins  Losses    PPG  OPP_PPG\n",
      "0      2022           Atlanta Hawks    43      39  113.9    112.4\n",
      "1      2023           Atlanta Hawks    41      41  118.4    118.1\n",
      "2      2024           Atlanta Hawks    36      46  118.3    120.5\n",
      "3      2025           Atlanta Hawks    40      42  118.2    119.3\n",
      "4      2022          Boston Celtics    51      31  111.8    104.5\n",
      "5      2023          Boston Celtics    57      25  117.9    111.4\n",
      "6      2024          Boston Celtics    64      18  120.6    109.2\n",
      "7      2025          Boston Celtics    61      21  116.3    107.2\n",
      "8      2022           Brooklyn Nets    44      38  112.9    112.1\n",
      "9      2023           Brooklyn Nets    45      37  113.4    112.5\n",
      "10     2024           Brooklyn Nets    32      50  110.4    113.3\n",
      "11     2025           Brooklyn Nets    26      56  105.1    112.2\n",
      "12     2022       Charlotte Hornets    43      39  115.3    114.9\n",
      "13     2023       Charlotte Hornets    27      55  111.0    117.2\n",
      "14     2024       Charlotte Hornets    21      61  106.6    116.8\n",
      "15     2025       Charlotte Hornets    19      63  105.1    114.2\n",
      "16     2022           Chicago Bulls    46      36  111.6    112.0\n",
      "17     2023           Chicago Bulls    40      42  113.1    111.8\n",
      "18     2024           Chicago Bulls    39      43  112.3    113.7\n",
      "19     2025           Chicago Bulls    39      43  117.8    119.4\n",
      "20     2022     Cleveland Cavaliers    44      38  107.8    105.7\n",
      "21     2023     Cleveland Cavaliers    51      31  112.3    106.9\n",
      "22     2024     Cleveland Cavaliers    48      34  112.6    110.2\n",
      "23     2025     Cleveland Cavaliers    64      18  121.9    112.4\n",
      "24     2022        Dallas Mavericks    52      30  108.0    104.7\n",
      "25     2023        Dallas Mavericks    38      44  114.2    114.1\n",
      "26     2024        Dallas Mavericks    50      32  117.9    115.6\n",
      "27     2025        Dallas Mavericks    39      43  114.2    115.4\n",
      "28     2022          Denver Nuggets    48      34  112.7    110.4\n",
      "29     2023          Denver Nuggets    53      29  115.8    112.5\n",
      "30     2024          Denver Nuggets    57      25  114.9    109.6\n",
      "31     2025          Denver Nuggets    50      32  120.8    116.9\n",
      "32     2022         Detroit Pistons    23      59  104.8    112.5\n",
      "33     2023         Detroit Pistons    17      65  110.3    118.5\n",
      "34     2024         Detroit Pistons    14      68  109.9    119.0\n",
      "35     2025         Detroit Pistons    44      38  115.5    113.6\n",
      "36     2022   Golden State Warriors    53      29  111.0    105.5\n",
      "37     2023   Golden State Warriors    44      38  118.9    117.1\n",
      "38     2024   Golden State Warriors    46      36  117.8    115.2\n",
      "39     2025   Golden State Warriors    48      34  113.8    110.5\n",
      "40     2022         Houston Rockets    20      62  109.7    118.2\n",
      "41     2023         Houston Rockets    22      60  110.7    118.6\n",
      "42     2024         Houston Rockets    41      41  114.3    113.2\n",
      "43     2025         Houston Rockets    52      30  114.3    109.8\n",
      "44     2022          Indiana Pacers    25      57  111.5    114.9\n",
      "45     2023          Indiana Pacers    35      47  116.3    119.5\n",
      "46     2024          Indiana Pacers    47      35  123.3    120.2\n",
      "47     2025          Indiana Pacers    50      32  117.4    115.1\n",
      "48     2022             LA Clippers    42      40  108.4    108.4\n",
      "49     2023             LA Clippers    44      38  113.6    113.1\n",
      "50     2024             LA Clippers    51      31  115.6    112.3\n",
      "51     2025             LA Clippers    50      32  112.9    108.2\n",
      "52     2022      Los Angeles Lakers    33      49  112.1    115.1\n",
      "53     2023      Los Angeles Lakers    43      39  117.2    116.6\n",
      "54     2024      Los Angeles Lakers    47      35  118.0    117.4\n",
      "55     2025      Los Angeles Lakers    50      32  113.4    112.2\n",
      "56     2022       Memphis Grizzlies    56      26  115.6    109.9\n",
      "57     2023       Memphis Grizzlies    51      31  116.9    113.0\n",
      "58     2024       Memphis Grizzlies    27      55  105.8    112.8\n",
      "59     2025       Memphis Grizzlies    48      34  121.7    116.9\n",
      "60     2022              Miami Heat    53      29  110.0    105.6\n",
      "61     2023              Miami Heat    44      38  109.5    109.8\n",
      "62     2024              Miami Heat    46      36  110.1    108.4\n",
      "63     2025              Miami Heat    37      45  110.6    110.0\n",
      "64     2022         Milwaukee Bucks    51      31  115.5    112.1\n",
      "65     2023         Milwaukee Bucks    58      24  116.9    113.3\n",
      "66     2024         Milwaukee Bucks    49      33  119.0    116.4\n",
      "67     2025         Milwaukee Bucks    48      34  115.5    113.0\n",
      "68     2022  Minnesota Timberwolves    46      36  116.0    113.3\n",
      "69     2023  Minnesota Timberwolves    42      40  115.8    115.8\n",
      "70     2024  Minnesota Timberwolves    56      26  113.0    106.5\n",
      "71     2025  Minnesota Timberwolves    49      33  114.3    109.3\n",
      "72     2022    New Orleans Pelicans    36      46  109.3    110.3\n",
      "73     2023    New Orleans Pelicans    42      40  114.4    112.5\n",
      "74     2024    New Orleans Pelicans    49      33  115.1    110.7\n",
      "75     2025    New Orleans Pelicans    21      61  109.8    119.3\n",
      "76     2022         New York Knicks    37      45  106.5    106.6\n",
      "77     2023         New York Knicks    47      35  116.0    113.1\n",
      "78     2024         New York Knicks    50      32  112.8    108.2\n",
      "79     2025         New York Knicks    51      31  115.8    111.7\n",
      "80     2022   Oklahoma City Thunder    24      58  103.7    111.8\n",
      "81     2023   Oklahoma City Thunder    40      42  117.5    116.4\n",
      "82     2024   Oklahoma City Thunder    57      25  120.1    112.7\n",
      "83     2025   Oklahoma City Thunder    68      14  120.5    107.6\n",
      "84     2022           Orlando Magic    22      60  104.2    112.2\n",
      "85     2023           Orlando Magic    34      48  111.4    114.0\n",
      "86     2024           Orlando Magic    47      35  110.5    108.5\n",
      "87     2025           Orlando Magic    41      41  105.4    105.5\n",
      "88     2022      Philadelphia 76ers    51      31  109.9    107.3\n",
      "89     2023      Philadelphia 76ers    54      28  115.2    110.9\n",
      "90     2024      Philadelphia 76ers    47      35  114.6    111.5\n",
      "91     2025      Philadelphia 76ers    24      58  109.6    115.8\n",
      "92     2022            Phoenix Suns    64      18  114.8    107.4\n",
      "93     2023            Phoenix Suns    45      37  113.6    111.6\n",
      "94     2024            Phoenix Suns    49      33  116.2    113.2\n",
      "95     2025            Phoenix Suns    36      46  113.6    116.6\n",
      "96     2022  Portland Trail Blazers    27      55  106.2    115.1\n",
      "97     2023  Portland Trail Blazers    33      49  113.4    117.4\n",
      "98     2024  Portland Trail Blazers    21      61  106.4    115.4\n",
      "99     2025  Portland Trail Blazers    36      46  110.9    113.9\n",
      "100    2022        Sacramento Kings    30      52  110.3    115.8\n",
      "101    2023        Sacramento Kings    48      34  120.7    118.1\n",
      "102    2024        Sacramento Kings    46      36  116.6    114.8\n",
      "103    2025        Sacramento Kings    40      42  115.7    115.3\n",
      "104    2022       San Antonio Spurs    34      48  113.2    113.0\n",
      "105    2023       San Antonio Spurs    22      60  113.0    123.1\n",
      "106    2024       San Antonio Spurs    22      60  112.1    118.6\n",
      "107    2025       San Antonio Spurs    34      48  113.9    116.7\n",
      "108    2022         Toronto Raptors    48      34  109.4    107.1\n",
      "109    2023         Toronto Raptors    41      41  112.9    111.4\n",
      "110    2024         Toronto Raptors    25      57  112.4    118.8\n",
      "111    2025         Toronto Raptors    30      52  110.9    115.2\n",
      "112    2022               Utah Jazz    49      33  113.6    107.6\n",
      "113    2023               Utah Jazz    37      45  117.1    118.0\n",
      "114    2024               Utah Jazz    31      51  115.7    120.5\n",
      "115    2025               Utah Jazz    17      65  111.9    121.2\n",
      "116    2022      Washington Wizards    35      47  108.6    112.0\n",
      "117    2023      Washington Wizards    35      47  113.2    114.4\n",
      "118    2024      Washington Wizards    15      67  113.7    123.0\n",
      "119    2025      Washington Wizards    18      64  108.0    120.4\n"
     ]
    }
   ],
   "source": [
    "import requests\n",
    "from bs4 import BeautifulSoup\n",
    "import pandas as pd\n",
    "from dotenv import load_dotenv\n",
    "import os\n",
    "\n",
    "headers = {'User-Agent': 'Mozilla/5.0'}\n",
    "all_team_stats = []\n",
    "\n",
    "# Loop through seasons 2022 to 2025\n",
    "for season in range(2022, 2026):\n",
    "    print(f\"Scraping season {season}...\")\n",
    "\n",
    "    url = f'https://www.espn.com/nba/standings/_/season/{season}/group/league'\n",
    "    response = requests.get(url, headers=headers)\n",
    "    soup = BeautifulSoup(response.text, 'html.parser')\n",
    "    tables = soup.find_all('table')\n",
    "\n",
    "    # Skip if table structure is missing\n",
    "    if len(tables) < 2:\n",
    "        print(f\"⚠️ Tables not found for season {season}\")\n",
    "        continue\n",
    "\n",
    "    name_rows = tables[0].find_all('tr')[1:]\n",
    "    stat_rows = tables[1].find_all('tr')[1:]\n",
    "\n",
    "    for name_row, stat_row in zip(name_rows, stat_rows):\n",
    "        name_cells = name_row.find_all('td')\n",
    "        stat_cells = stat_row.find_all('td')\n",
    "\n",
    "        if len(name_cells) == 0 or len(stat_cells) < 10:\n",
    "            continue\n",
    "\n",
    "        # Extract team name from <span class=\"hide-mobile\"><a>...</a></span>\n",
    "        name_cell = name_cells[0]\n",
    "        team_tag = name_cell.select_one('span.hide-mobile a')\n",
    "        team_name = team_tag.text.strip() if team_tag else ''\n",
    "\n",
    "        if not team_name:\n",
    "            continue\n",
    "\n",
    "        # Collect stats with season included\n",
    "        all_team_stats.append({\n",
    "            'Season': season,\n",
    "            'Team': team_name,\n",
    "            'Wins': stat_cells[0].text.strip(),\n",
    "            'Losses': stat_cells[1].text.strip(),\n",
    "            'PPG': stat_cells[8].text.strip(),\n",
    "            'OPP_PPG': stat_cells[9].text.strip()\n",
    "        })\n",
    "\n",
    "# Build DataFrame\n",
    "df = pd.DataFrame(all_team_stats)\n",
    "\n",
    "# Convert numeric columns\n",
    "for col in ['Wins', 'Losses', 'PPG', 'OPP_PPG']:\n",
    "    df = df.sort_values(by=['Team', 'Season']).reset_index(drop=True)\n",
    "    df[col] = pd.to_numeric(df[col], errors='coerce')\n",
    "\n",
    "# Show full results\n",
    "pd.set_option('display.max_rows', None)\n",
    "print(df)"
   ]
  },
  {
   "cell_type": "code",
   "execution_count": 6,
   "metadata": {
    "colab": {
     "base_uri": "https://localhost:8080/"
    },
    "executionInfo": {
     "elapsed": 5247,
     "status": "ok",
     "timestamp": 1746146263139,
     "user": {
      "displayName": "Tim Dames",
      "userId": "14353836328459833075"
     },
     "user_tz": 420
    },
    "id": "KRrRYnVlUPaR",
    "outputId": "7e5eeb0c-adba-478a-8cfd-181ddbc3d4af"
   },
   "outputs": [
    {
     "name": "stdout",
     "output_type": "stream",
     "text": [
      "Collecting pymysql\n",
      "  Downloading PyMySQL-1.1.1-py3-none-any.whl.metadata (4.4 kB)\n",
      "Downloading PyMySQL-1.1.1-py3-none-any.whl (44 kB)\n",
      "\u001b[?25l   \u001b[90m━━━━━━━━━━━━━━━━━━━━━━━━━━━━━━━━━━━━━━━━\u001b[0m \u001b[32m0.0/45.0 kB\u001b[0m \u001b[31m?\u001b[0m eta \u001b[36m-:--:--\u001b[0m\r\u001b[2K   \u001b[90m━━━━━━━━━━━━━━━━━━━━━━━━━━━━━━━━━━━━━━━━\u001b[0m \u001b[32m45.0/45.0 kB\u001b[0m \u001b[31m1.8 MB/s\u001b[0m eta \u001b[36m0:00:00\u001b[0m\n",
      "\u001b[?25hInstalling collected packages: pymysql\n",
      "Successfully installed pymysql-1.1.1\n"
     ]
    }
   ],
   "source": [
    "from sqlalchemy import create_engine\n",
    "!pip install pymysql"
   ]
  },
  {
   "cell_type": "code",
   "execution_count": null,
   "metadata": {
    "executionInfo": {
     "elapsed": 7,
     "status": "ok",
     "timestamp": 1746147418715,
     "user": {
      "displayName": "Tim Dames",
      "userId": "14353836328459833075"
     },
     "user_tz": 420
    },
    "id": "NswhxoGYUq7n"
   },
   "outputs": [],
   "source": [
    "host = os.getenv(\"PG_HOST\")\n",
    "user = os.getenv(\"PG_USER\")\n",
    "password = os.getenv(\"PG_PASSWORD\")\n",
    "port = 5432\n",
    "database = os.getenv(\"PG_DATABASE\")"
   ]
  },
  {
   "cell_type": "code",
   "execution_count": 16,
   "metadata": {
    "colab": {
     "base_uri": "https://localhost:8080/"
    },
    "executionInfo": {
     "elapsed": 699,
     "status": "ok",
     "timestamp": 1746147420654,
     "user": {
      "displayName": "Tim Dames",
      "userId": "14353836328459833075"
     },
     "user_tz": 420
    },
    "id": "pUPHbE3Pab49",
    "outputId": "f6d73e17-dadd-442c-936a-04da0da66ef3"
   },
   "outputs": [
    {
     "data": {
      "text/plain": [
       "120"
      ]
     },
     "execution_count": 16,
     "metadata": {},
     "output_type": "execute_result"
    }
   ],
   "source": [
    "pg_conn_str = f'postgresql+psycopg2://{user}:{password}@{host}:{port}/{database}'\n",
    "\n",
    "# Create engine\n",
    "engine = create_engine(pg_conn_str)\n",
    "\n",
    "# Load your DataFrame to your desired table\n",
    "df.to_sql(\"web_scraped_standings\", engine, if_exists=\"replace\", index=False)"
   ]
  }
 ],
 "metadata": {
  "colab": {
   "authorship_tag": "ABX9TyNy0gYafSyGSlT1F6cdPW84",
   "provenance": []
  },
  "kernelspec": {
   "display_name": "Python 3",
   "name": "python3"
  },
  "language_info": {
   "name": "python"
  }
 },
 "nbformat": 4,
 "nbformat_minor": 0
}
