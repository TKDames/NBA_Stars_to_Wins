{
 "cells": [
  {
   "cell_type": "markdown",
   "id": "02f35611",
   "metadata": {},
   "source": [
    "# How many teams had 0, 1, 2, or 3+ star players each season from 2021–2025?"
   ]
  },
  {
   "cell_type": "code",
   "execution_count": null,
   "id": "5e2d5afd",
   "metadata": {
    "vscode": {
     "languageId": "plaintext"
    }
   },
   "outputs": [],
   "source": [
    "sql_api_descriptive = '''\n",
    "WITH star_players AS (\n",
    "  SELECT\n",
    "    team,\n",
    "    season,\n",
    "    player\n",
    "  FROM public.nba_api_player_stats\n",
    "  WHERE per >= 20\n",
    "    AND win_shares >= 5\n",
    "    AND box_plus_minus >= 2\n",
    "),\n",
    "star_counts AS (\n",
    "  SELECT\n",
    "    team,\n",
    "    season,\n",
    "    COUNT(*) AS num_star_players\n",
    "  FROM star_players\n",
    "  GROUP BY team, season\n",
    "),\n",
    "star_category AS (\n",
    "  SELECT\n",
    "    team,\n",
    "    season,\n",
    "    CASE \n",
    "      WHEN num_star_players = 0 THEN '0 Stars'\n",
    "      WHEN num_star_players = 1 THEN '1 Star'\n",
    "      WHEN num_star_players = 2 THEN '2 Stars'\n",
    "      ELSE '3+ Stars'\n",
    "    END AS star_tier\n",
    "  FROM star_counts\n",
    ")\n",
    "SELECT\n",
    "  season,\n",
    "  star_tier,\n",
    "  COUNT(*) AS num_teams\n",
    "FROM star_category\n",
    "GROUP BY season, star_tier\n",
    "ORDER BY season, star_tier;\n",
    "'''\n",
    "\n",
    "df_api = pd.read_sql(sql_api_descriptive, con=engine)\n",
    "pd.set_option('display.max_rows', None)\n",
    "df_api\n"
   ]
  },
  {
   "cell_type": "markdown",
   "id": "eeec5f89",
   "metadata": {},
   "source": [
    "# Are star players clustered on high-win teams, or spread out?"
   ]
  },
  {
   "cell_type": "code",
   "execution_count": null,
   "id": "86cfaf34",
   "metadata": {
    "vscode": {
     "languageId": "plaintext"
    }
   },
   "outputs": [],
   "source": [
    "sql_api_diagnostic = '''\n",
    "WITH team_name_map AS (\n",
    "  SELECT * FROM (VALUES\n",
    "    ('ATL', 'Atlanta Hawks'),\n",
    "    ('BOS', 'Boston Celtics'),\n",
    "    ('BRK', 'Brooklyn Nets'),\n",
    "    ('CHA', 'Charlotte Hornets'),\n",
    "    ('CHI', 'Chicago Bulls'),\n",
    "    ('CLE', 'Cleveland Cavaliers'),\n",
    "    ('DAL', 'Dallas Mavericks'),\n",
    "    ('DEN', 'Denver Nuggets'),\n",
    "    ('DET', 'Detroit Pistons'),\n",
    "    ('GSW', 'Golden State Warriors'),\n",
    "    ('HOU', 'Houston Rockets'),\n",
    "    ('IND', 'Indiana Pacers'),\n",
    "    ('LAC', 'Los Angeles Clippers'),\n",
    "    ('LAL', 'Los Angeles Lakers'),\n",
    "    ('MEM', 'Memphis Grizzlies'),\n",
    "    ('MIA', 'Miami Heat'),\n",
    "    ('MIL', 'Milwaukee Bucks'),\n",
    "    ('MIN', 'Minnesota Timberwolves'),\n",
    "    ('NOP', 'New Orleans Pelicans'),\n",
    "    ('NYK', 'New York Knicks'),\n",
    "    ('OKC', 'Oklahoma City Thunder'),\n",
    "    ('ORL', 'Orlando Magic'),\n",
    "    ('PHI', 'Philadelphia 76ers'),\n",
    "    ('PHO', 'Phoenix Suns'),\n",
    "    ('POR', 'Portland Trail Blazers'),\n",
    "    ('SAC', 'Sacramento Kings'),\n",
    "    ('SAS', 'San Antonio Spurs'),\n",
    "    ('TOR', 'Toronto Raptors'),\n",
    "    ('UTA', 'Utah Jazz'),\n",
    "    ('WAS', 'Washington Wizards')\n",
    "  ) AS t(abbrev, full_name)\n",
    "),\n",
    "team_wins AS (\n",
    "  SELECT \n",
    "    m.abbrev AS team,\n",
    "    ws.\"Season\" AS season,\n",
    "    CAST(ws.\"Wins\" AS FLOAT) / (ws.\"Wins\" + ws.\"Losses\") AS win_pct\n",
    "  FROM public.web_scraped_standings ws\n",
    "  JOIN team_name_map m ON ws.\"Team\" = m.full_name\n",
    "),\n",
    "star_players AS (\n",
    "  SELECT \n",
    "    player, team, season\n",
    "  FROM public.nba_api_player_stats\n",
    "  WHERE per >= 20 AND win_shares >= 5 AND box_plus_minus >= 2\n",
    "),\n",
    "joined AS (\n",
    "  SELECT \n",
    "    sp.player,\n",
    "    sp.season,\n",
    "    tw.win_pct\n",
    "  FROM star_players sp\n",
    "  JOIN team_wins tw ON sp.team = tw.team AND sp.season = tw.season\n",
    ")\n",
    "SELECT \n",
    "  CASE \n",
    "    WHEN win_pct >= 0.6 THEN 'High Winning Teams (≥.600)'\n",
    "    WHEN win_pct >= 0.5 THEN 'Mid-tier Teams (.500–.599)'\n",
    "    ELSE 'Low Winning Teams (<.500)'\n",
    "  END AS win_tier,\n",
    "  COUNT(*) AS num_star_players\n",
    "FROM joined\n",
    "GROUP BY win_tier;\n",
    "'''\n",
    "\n",
    "df_api_diagnostic = pd.read_sql(sql_api_diagnostic, con=engine)\n",
    "pd.set_option('display.max_rows', None)\n",
    "df_api_diagnostic\n"
   ]
  }
 ],
 "metadata": {
  "language_info": {
   "name": "python"
  }
 },
 "nbformat": 4,
 "nbformat_minor": 5
}
