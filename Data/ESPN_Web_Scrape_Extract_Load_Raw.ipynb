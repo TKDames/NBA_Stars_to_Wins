{
  "nbformat": 4,
  "nbformat_minor": 0,
  "metadata": {
    "colab": {
      "provenance": []
    },
    "kernelspec": {
      "name": "python3",
      "display_name": "Python 3"
    },
    "language_info": {
      "name": "python"
    }
  },
  "cells": [
    {
      "cell_type": "code",
      "execution_count": 10,
      "metadata": {
        "colab": {
          "base_uri": "https://localhost:8080/"
        },
        "id": "rmNANte8Ufta",
        "outputId": "16f6fa39-296f-4f33-e513-9569a4b1947e"
      },
      "outputs": [
        {
          "output_type": "stream",
          "name": "stdout",
          "text": [
            "        Wins  Losses    PPG  OPP_PPG\n",
            "Team #                              \n",
            "1         24   0.707  116.9    113.3\n",
            "2         25   0.695  117.9    111.4\n",
            "3         28   0.659  115.2    110.9\n",
            "4         29   0.646  115.8    112.5\n",
            "5         31   0.622  116.9    113.0\n",
            "6         31   0.622  112.3    106.9\n",
            "7         34   0.585  120.7    118.1\n",
            "8         35   0.573  116.0    113.1\n",
            "9         37   0.549  113.6    111.6\n",
            "10        37   0.549  113.4    112.5\n",
            "11        38   0.537  109.5    109.8\n",
            "12        38   0.537  113.6    113.1\n",
            "13        38   0.537  118.9    117.1\n",
            "14        39   0.524  117.2    116.6\n",
            "15        40   0.512  115.8    115.8\n",
            "16        40   0.512  114.4    112.5\n",
            "17        41   0.500  118.4    118.1\n",
            "18        41   0.500  112.9    111.4\n",
            "19        42   0.488  113.1    111.8\n",
            "20        42   0.488  117.5    116.4\n",
            "21        44   0.463  114.2    114.1\n",
            "22        45   0.451  117.1    118.0\n",
            "23        47   0.427  116.3    119.5\n",
            "24        47   0.427  113.2    114.4\n",
            "25        48   0.415  111.4    114.0\n",
            "26        49   0.402  113.4    117.4\n",
            "27        55   0.329  111.0    117.2\n",
            "28        60   0.268  110.7    118.6\n",
            "29        60   0.268  113.0    123.1\n",
            "30        65   0.207  110.3    118.5\n"
          ]
        }
      ],
      "source": [
        "import requests\n",
        "from bs4 import BeautifulSoup\n",
        "import pandas as pd\n",
        "\n",
        "url = 'https://www.espn.com/nba/standings/_/season/2023/group/league'\n",
        "headers = {'User-Agent': 'Mozilla/5.0'}\n",
        "\n",
        "response = requests.get(url, headers=headers)\n",
        "soup = BeautifulSoup(response.text, 'html.parser')\n",
        "\n",
        "tables = soup.find_all('table')\n",
        "team_stats = []\n",
        "\n",
        "for row in tables[1].find_all('tr')[1:]:\n",
        "    cols = row.find_all('td')\n",
        "    if len(cols) >= 10:\n",
        "        team_stats.append({\n",
        "            'Wins': cols[1].text.strip(),\n",
        "            'Losses': cols[2].text.strip(),\n",
        "            'PPG': cols[8].text.strip(),\n",
        "            'OPP_PPG': cols[9].text.strip()\n",
        "        })\n",
        "\n",
        "# Build DataFrame\n",
        "df = pd.DataFrame(team_stats)\n",
        "\n",
        "# Set row number as index\n",
        "df.index.name = 'Team #'\n",
        "df.index += 1  # so it starts from 1 not 0\n",
        "\n",
        "# Convert numeric columns\n",
        "for col in ['Wins', 'Losses', 'PPG', 'OPP_PPG']:\n",
        "    df[col] = pd.to_numeric(df[col], errors='coerce')\n",
        "\n",
        "print(df)"
      ]
    },
    {
      "cell_type": "code",
      "source": [
        "# Save top player data to CSV\n",
        "df.to_csv(\"NBA_Team_Record.csv\", index=False)"
      ],
      "metadata": {
        "id": "aBNnJSnJU-gO"
      },
      "execution_count": 11,
      "outputs": []
    }
  ]
}